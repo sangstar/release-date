{
 "cells": [
  {
   "cell_type": "code",
   "execution_count": 258,
   "source": [
    "import numpy as np\n",
    "import pandas as pd\n",
    "import matplotlib.pyplot as plt\n",
    "import statsmodels.api as sm\n",
    "from sklearn.preprocessing import PolynomialFeatures\n",
    "import datetime\n",
    "from scipy.interpolate import CubicSpline"
   ],
   "outputs": [],
   "metadata": {}
  },
  {
   "cell_type": "code",
   "execution_count": 259,
   "source": [
    "agot = datetime.datetime(1996, 8, 1)\n",
    "acok = datetime.datetime(1998, 11, 16)\n",
    "asos = datetime.datetime(2000, 8, 8)\n",
    "affc = datetime.datetime(2005, 10, 17)\n",
    "adwd = datetime.datetime(2011, 7, 12)\n",
    "end = datetime.datetime(2022, 2, 18)\n",
    "book_dates = [agot, acok, asos, affc, adwd]\n",
    "delta = end - agot"
   ],
   "outputs": [],
   "metadata": {}
  },
  {
   "cell_type": "code",
   "execution_count": 260,
   "source": [
    "x = []\n",
    "y = []\n",
    "books = 0\n",
    "for i in range(delta.days + 1):\n",
    "    day = agot + datetime.timedelta(days=i)\n",
    "    if day in book_dates:\n",
    "        books += 1\n",
    "        print('new book written on ', day, 'after ', i, 'days following release of got')\n",
    "        y.append(books)\n",
    "        x.append(i)\n",
    "\n",
    "\n",
    "x.append(i)\n",
    "y.append(5)\n"
   ],
   "outputs": [
    {
     "output_type": "stream",
     "name": "stdout",
     "text": [
      "new book written on  1996-08-01 00:00:00 after  0 days following release of got\n",
      "new book written on  1998-11-16 00:00:00 after  837 days following release of got\n",
      "new book written on  2000-08-08 00:00:00 after  1468 days following release of got\n",
      "new book written on  2005-10-17 00:00:00 after  3364 days following release of got\n",
      "new book written on  2011-07-12 00:00:00 after  5458 days following release of got\n"
     ]
    }
   ],
   "metadata": {}
  },
  {
   "cell_type": "markdown",
   "source": [
    "## Using natural cubic splines\n",
    "Usually a safe bet."
   ],
   "metadata": {}
  },
  {
   "cell_type": "code",
   "execution_count": 261,
   "source": [
    "cs = CubicSpline(x,y, bc_type = 'natural')"
   ],
   "outputs": [],
   "metadata": {}
  },
  {
   "cell_type": "code",
   "execution_count": 262,
   "source": [
    "xs = np.linspace(0,15000, 1000)"
   ],
   "outputs": [],
   "metadata": {}
  },
  {
   "cell_type": "code",
   "execution_count": 263,
   "source": [
    "pos_for_sixth = np.where([np.abs(val-6) < 0.005 for val in cs(xs)])[0][0]"
   ],
   "outputs": [],
   "metadata": {}
  },
  {
   "cell_type": "code",
   "execution_count": 264,
   "source": [
    "agot + datetime.timedelta(days = xs[pos_for_sixth])"
   ],
   "outputs": [
    {
     "output_type": "execute_result",
     "data": {
      "text/plain": [
       "datetime.datetime(2036, 10, 29, 16, 47, 34, 54054)"
      ]
     },
     "metadata": {},
     "execution_count": 264
    }
   ],
   "metadata": {}
  },
  {
   "cell_type": "code",
   "execution_count": 265,
   "source": [
    "cs(xs[pos_for_sixth])"
   ],
   "outputs": [
    {
     "output_type": "execute_result",
     "data": {
      "text/plain": [
       "array(5.99629675)"
      ]
     },
     "metadata": {},
     "execution_count": 265
    }
   ],
   "metadata": {}
  },
  {
   "cell_type": "code",
   "execution_count": 266,
   "source": [
    "from sklearn.linear_model import RidgeCV\n",
    "\n",
    "x = np.array(x).reshape(-1,1)\n",
    "y = np.array(y).reshape(-1,1)\n",
    "xs = np.array(xs).reshape(-1,1)"
   ],
   "outputs": [],
   "metadata": {}
  },
  {
   "cell_type": "code",
   "execution_count": 267,
   "source": [
    "grid = {\n",
    "    'alpha': [1e-1, 1, 10, 1e2, 1e3, 1e4, 1e5, 1e6, 1e7],\n",
    "    'kernel': ['polynomial', 'linear'],\n",
    "    'degree': [2,3,4,5]\n",
    "}"
   ],
   "outputs": [],
   "metadata": {}
  },
  {
   "cell_type": "code",
   "execution_count": 268,
   "source": [
    "from sklearn.model_selection import GridSearchCV, StratifiedKFold\n",
    "from sklearn.kernel_ridge import KernelRidge\n",
    "kRidge = KernelRidge()\n",
    "gsearch = GridSearchCV(estimator = kRidge, param_grid = grid, n_jobs = -1,  cv = StratifiedKFold(n_splits = 2), verbose = 10)"
   ],
   "outputs": [],
   "metadata": {}
  },
  {
   "cell_type": "code",
   "execution_count": 269,
   "source": [
    "gsearch.fit(x,y)"
   ],
   "outputs": [
    {
     "output_type": "stream",
     "name": "stdout",
     "text": [
      "Fitting 2 folds for each of 72 candidates, totalling 144 fits\n",
      "[CV 1/2; 1/72] START alpha=0.1, degree=2, kernel=polynomial.....................\n",
      "[CV 1/2; 1/72] END alpha=0.1, degree=2, kernel=polynomial;, score=0.969 total time=   0.0s\n",
      "[CV 2/2; 1/72] START alpha=0.1, degree=2, kernel=polynomial.....................\n",
      "[CV 2/2; 1/72] END alpha=0.1, degree=2, kernel=polynomial;, score=-1.299 total time=   0.0s\n",
      "[CV 1/2; 2/72] START alpha=0.1, degree=2, kernel=linear.........................\n",
      "[CV 1/2; 2/72] END alpha=0.1, degree=2, kernel=linear;, score=0.013 total time=   0.0s\n",
      "[CV 2/2; 2/72] START alpha=0.1, degree=2, kernel=linear.........................\n",
      "[CV 1/2; 3/72] START alpha=0.1, degree=3, kernel=polynomial.....................\n",
      "[CV 1/2; 3/72] END alpha=0.1, degree=3, kernel=polynomial;, score=0.542 total time=   0.0s\n",
      "[CV 2/2; 3/72] START alpha=0.1, degree=3, kernel=polynomial.....................\n",
      "[CV 2/2; 2/72] END alpha=0.1, degree=2, kernel=linear;, score=-3.274 total time=   0.0s\n",
      "[CV 2/2; 3/72] END alpha=0.1, degree=3, kernel=polynomial;, score=-840.146 total time=   0.0s\n",
      "[CV 1/2; 4/72] START alpha=0.1, degree=3, kernel=linear.........................\n",
      "[CV 1/2; 4/72] END alpha=0.1, degree=3, kernel=linear;, score=0.013 total time=   0.0s\n",
      "[CV 2/2; 4/72] START alpha=0.1, degree=3, kernel=linear.........................\n",
      "[CV 1/2; 5/72] START alpha=0.1, degree=4, kernel=polynomial.....................\n",
      "[CV 2/2; 4/72] END alpha=0.1, degree=3, kernel=linear;, score=-3.274 total time=   0.0s\n",
      "[CV 1/2; 5/72] END alpha=0.1, degree=4, kernel=polynomial;, score=-75.864 total time=   0.0s\n",
      "[CV 2/2; 5/72] START alpha=0.1, degree=4, kernel=polynomial.....................\n",
      "[CV 1/2; 6/72] START alpha=0.1, degree=4, kernel=linear.........................\n",
      "[CV 1/2; 6/72] END alpha=0.1, degree=4, kernel=linear;, score=0.013 total time=   0.0s\n",
      "[CV 2/2; 6/72] START alpha=0.1, degree=4, kernel=linear.........................\n",
      "[CV 2/2; 5/72] END alpha=0.1, degree=4, kernel=polynomial;, score=-50492.007 total time=   0.0s\n",
      "[CV 2/2; 6/72] END alpha=0.1, degree=4, kernel=linear;, score=-3.274 total time=   0.0s\n",
      "[CV 1/2; 7/72] START alpha=0.1, degree=5, kernel=polynomial.....................\n",
      "[CV 1/2; 7/72] END alpha=0.1, degree=5, kernel=polynomial;, score=-4856.402 total time=   0.0s\n",
      "[CV 2/2; 7/72] START alpha=0.1, degree=5, kernel=polynomial.....................\n",
      "[CV 2/2; 7/72] END alpha=0.1, degree=5, kernel=polynomial;, score=-2264158.137 total time=   0.0s\n",
      "[CV 1/2; 8/72] START alpha=0.1, degree=5, kernel=linear.........................\n",
      "[CV 1/2; 8/72] END alpha=0.1, degree=5, kernel=linear;, score=0.013 total time=   0.0s\n",
      "[CV 2/2; 8/72] START alpha=0.1, degree=5, kernel=linear.........................\n",
      "[CV 1/2; 9/72] START alpha=1, degree=2, kernel=polynomial.......................\n",
      "[CV 2/2; 8/72] END alpha=0.1, degree=5, kernel=linear;, score=-3.274 total time=   0.0s\n",
      "[CV 1/2; 9/72] END alpha=1, degree=2, kernel=polynomial;, score=0.871 total time=   0.0s\n",
      "[CV 2/2; 9/72] START alpha=1, degree=2, kernel=polynomial.......................\n",
      "[CV 1/2; 10/72] START alpha=1, degree=2, kernel=linear..........................\n",
      "[CV 2/2; 9/72] END alpha=1, degree=2, kernel=polynomial;, score=-4.013 total time=   0.0s\n",
      "[CV 1/2; 11/72] START alpha=1, degree=3, kernel=polynomial......................\n",
      "[CV 1/2; 10/72] END alpha=1, degree=2, kernel=linear;, score=0.013 total time=   0.0s\n",
      "[CV 2/2; 10/72] START alpha=1, degree=2, kernel=linear..........................\n",
      "[CV 1/2; 11/72] END alpha=1, degree=3, kernel=polynomial;, score=0.542 total time=   0.0s\n",
      "[CV 2/2; 11/72] START alpha=1, degree=3, kernel=polynomial......................\n",
      "[CV 2/2; 11/72] END alpha=1, degree=3, kernel=polynomial;, score=-1262.226 total time=   0.0s\n",
      "[CV 1/2; 12/72] START alpha=1, degree=3, kernel=linear..........................\n",
      "[CV 2/2; 10/72] END alpha=1, degree=2, kernel=linear;, score=-3.274 total time=   0.0s\n",
      "[CV 1/2; 12/72] END alpha=1, degree=3, kernel=linear;, score=0.013 total time=   0.0s\n",
      "[CV 2/2; 12/72] START alpha=1, degree=3, kernel=linear..........................\n",
      "[CV 2/2; 12/72] END alpha=1, degree=3, kernel=linear;, score=-3.274 total time=   0.0s\n",
      "[CV 1/2; 13/72] START alpha=1, degree=4, kernel=polynomial......................\n",
      "[CV 1/2; 14/72] START alpha=1, degree=4, kernel=linear..........................\n",
      "[CV 1/2; 13/72] END alpha=1, degree=4, kernel=polynomial;, score=-75.864 total time=   0.0s\n",
      "[CV 2/2; 13/72] START alpha=1, degree=4, kernel=polynomial......................\n",
      "[CV 1/2; 15/72] START alpha=1, degree=5, kernel=polynomial......................\n",
      "[CV 2/2; 13/72] END alpha=1, degree=4, kernel=polynomial;, score=-73047.796 total time=   0.0s\n",
      "[CV 1/2; 14/72] END alpha=1, degree=4, kernel=linear;, score=0.013 total time=   0.0s\n",
      "[CV 2/2; 14/72] START alpha=1, degree=4, kernel=linear..........................\n",
      "[CV 1/2; 17/72] START alpha=10, degree=2, kernel=polynomial.....................\n",
      "[CV 1/2; 16/72] START alpha=1, degree=5, kernel=linear..........................\n",
      "[CV 2/2; 14/72] END alpha=1, degree=4, kernel=linear;, score=-3.274 total time=   0.0s\n",
      "[CV 1/2; 17/72] END alpha=10, degree=2, kernel=polynomial;, score=0.780 total time=   0.0s\n",
      "[CV 2/2; 17/72] START alpha=10, degree=2, kernel=polynomial.....................\n",
      "[CV 1/2; 15/72] END alpha=1, degree=5, kernel=polynomial;, score=-4856.402 total time=   0.0s[CV 1/2; 18/72] START alpha=10, degree=2, kernel=linear.........................\n",
      "\n",
      "[CV 2/2; 15/72] START alpha=1, degree=5, kernel=polynomial......................\n",
      "[CV 2/2; 15/72] END alpha=1, degree=5, kernel=polynomial;, score=-3247141.801 total time=   0.0s\n",
      "[CV 1/2; 18/72] END alpha=10, degree=2, kernel=linear;, score=0.013 total time=   0.0s\n",
      "[CV 2/2; 18/72] START alpha=10, degree=2, kernel=linear.........................\n",
      "[CV 2/2; 17/72] END alpha=10, degree=2, kernel=polynomial;, score=-7.791 total time=   0.0s\n",
      "[CV 2/2; 18/72] END alpha=10, degree=2, kernel=linear;, score=-3.274 total time=   0.0s\n",
      "[CV 1/2; 16/72] END alpha=1, degree=5, kernel=linear;, score=0.013 total time=   0.0s\n",
      "[CV 2/2; 16/72] START alpha=1, degree=5, kernel=linear..........................\n",
      "[CV 2/2; 16/72] END alpha=1, degree=5, kernel=linear;, score=-3.274 total time=   0.0s\n",
      "[CV 1/2; 19/72] START alpha=10, degree=3, kernel=polynomial.....................\n",
      "[CV 1/2; 20/72] START alpha=10, degree=3, kernel=linear.........................\n",
      "[CV 1/2; 19/72] END alpha=10, degree=3, kernel=polynomial;, score=0.542 total time=   0.0s\n",
      "[CV 2/2; 19/72] START alpha=10, degree=3, kernel=polynomial.....................\n",
      "[CV 2/2; 19/72] END alpha=10, degree=3, kernel=polynomial;, score=-1769.844 total time=   0.0s\n",
      "[CV 1/2; 20/72] END alpha=10, degree=3, kernel=linear;, score=0.013 total time=   0.0s\n",
      "[CV 2/2; 20/72] START alpha=10, degree=3, kernel=linear.........................\n",
      "[CV 1/2; 21/72] START alpha=10, degree=4, kernel=polynomial.....................\n",
      "[CV 2/2; 20/72] END alpha=10, degree=3, kernel=linear;, score=-3.274 total time=   0.0s\n",
      "[CV 1/2; 21/72] END alpha=10, degree=4, kernel=polynomial;, score=-75.864 total time=   0.0s\n",
      "[CV 2/2; 21/72] START alpha=10, degree=4, kernel=polynomial.....................\n",
      "[CV 2/2; 21/72] END alpha=10, degree=4, kernel=polynomial;, score=-99756.653 total time=   0.0s\n",
      "[CV 1/2; 22/72] START alpha=10, degree=4, kernel=linear.........................\n",
      "[CV 1/2; 22/72] END alpha=10, degree=4, kernel=linear;, score=0.013 total time=   0.0s\n",
      "[CV 2/2; 22/72] START alpha=10, degree=4, kernel=linear.........................\n",
      "[CV 2/2; 22/72] END alpha=10, degree=4, kernel=linear;, score=-3.274 total time=   0.0s\n",
      "[CV 1/2; 23/72] START alpha=10, degree=5, kernel=polynomial.....................\n",
      "[CV 1/2; 24/72] START alpha=10, degree=5, kernel=linear.........................\n",
      "[CV 1/2; 23/72] END alpha=10, degree=5, kernel=polynomial;, score=-4856.402 total time=   0.0s\n",
      "[CV 2/2; 23/72] START alpha=10, degree=5, kernel=polynomial.....................\n",
      "[CV 1/2; 24/72] END alpha=10, degree=5, kernel=linear;, score=0.013 total time=   0.0s\n",
      "[CV 2/2; 23/72] END alpha=10, degree=5, kernel=polynomial;, score=-4406865.233 total time=   0.0s\n",
      "[CV 2/2; 24/72] START alpha=10, degree=5, kernel=linear.........................\n",
      "[CV 2/2; 24/72] END alpha=10, degree=5, kernel=linear;, score=-3.274 total time=   0.0s\n",
      "[CV 1/2; 25/72] START alpha=100.0, degree=2, kernel=polynomial..................\n",
      "[CV 1/2; 25/72] END alpha=100.0, degree=2, kernel=polynomial;, score=0.765 total time=   0.0s\n",
      "[CV 2/2; 25/72] START alpha=100.0, degree=2, kernel=polynomial..................\n",
      "[CV 1/2; 27/72] START alpha=100.0, degree=3, kernel=polynomial..................\n",
      "[CV 2/2; 25/72] END alpha=100.0, degree=2, kernel=polynomial;, score=-8.664 total time=   0.0s\n",
      "[CV 1/2; 26/72] START alpha=100.0, degree=2, kernel=linear......................\n",
      "[CV 1/2; 27/72] END alpha=100.0, degree=3, kernel=polynomial;, score=0.542 total time=   0.0s\n",
      "[CV 2/2; 27/72] START alpha=100.0, degree=3, kernel=polynomial..................\n",
      "[CV 1/2; 26/72] END alpha=100.0, degree=2, kernel=linear;, score=0.013 total time=   0.0s\n",
      "[CV 2/2; 26/72] START alpha=100.0, degree=2, kernel=linear......................\n",
      "[CV 2/2; 26/72] END alpha=100.0, degree=2, kernel=linear;, score=-3.274 total time=   0.0s\n",
      "[CV 1/2; 29/72] START alpha=100.0, degree=4, kernel=polynomial..................\n",
      "[CV 1/2; 31/72] START alpha=100.0, degree=5, kernel=polynomial..................\n",
      "[CV 2/2; 27/72] END alpha=100.0, degree=3, kernel=polynomial;, score=-1880.508 total time=   0.0s\n",
      "[CV 1/2; 28/72] START alpha=100.0, degree=3, kernel=linear......................\n",
      "[CV 1/2; 31/72] END alpha=100.0, degree=5, kernel=polynomial;, score=-4856.402 total time=   0.0s\n",
      "[CV 2/2; 31/72] START alpha=100.0, degree=5, kernel=polynomial..................\n",
      "[CV 1/2; 28/72] END alpha=100.0, degree=3, kernel=linear;, score=0.013 total time=   0.0s\n",
      "[CV 2/2; 28/72] START alpha=100.0, degree=3, kernel=linear......................\n",
      "[CV 2/2; 31/72] END alpha=100.0, degree=5, kernel=polynomial;, score=-4657477.581 total time=   0.0s\n",
      "[CV 1/2; 32/72] START alpha=100.0, degree=5, kernel=linear......................\n",
      "[CV 1/2; 29/72] END alpha=100.0, degree=4, kernel=polynomial;, score=-75.864 total time=   0.0s\n",
      "[CV 2/2; 29/72] START alpha=100.0, degree=4, kernel=polynomial..................\n",
      "[CV 2/2; 28/72] END alpha=100.0, degree=3, kernel=linear;, score=-3.274 total time=   0.0s\n",
      "[CV 2/2; 29/72] END alpha=100.0, degree=4, kernel=polynomial;, score=-105538.155 total time=   0.0s\n",
      "[CV 1/2; 30/72] START alpha=100.0, degree=4, kernel=linear......................\n",
      "[CV 1/2; 32/72] END alpha=100.0, degree=5, kernel=linear;, score=0.013 total time=   0.0s\n",
      "[CV 2/2; 32/72] START alpha=100.0, degree=5, kernel=linear......................\n",
      "[CV 1/2; 30/72] END alpha=100.0, degree=4, kernel=linear;, score=0.013 total time=   0.0s\n",
      "[CV 2/2; 30/72] START alpha=100.0, degree=4, kernel=linear......................\n",
      "[CV 2/2; 32/72] END alpha=100.0, degree=5, kernel=linear;, score=-3.274 total time=   0.0s\n",
      "[CV 1/2; 33/72] START alpha=1000.0, degree=2, kernel=polynomial.................\n",
      "[CV 2/2; 30/72] END alpha=100.0, degree=4, kernel=linear;, score=-3.274 total time=   0.0s\n",
      "[CV 1/2; 33/72] END alpha=1000.0, degree=2, kernel=polynomial;, score=0.763 total time=   0.0s\n",
      "[CV 2/2; 33/72] START alpha=1000.0, degree=2, kernel=polynomial.................\n",
      "[CV 1/2; 35/72] START alpha=1000.0, degree=3, kernel=polynomial.................\n",
      "[CV 1/2; 37/72] START alpha=1000.0, degree=4, kernel=polynomial.................\n",
      "[CV 2/2; 33/72] END alpha=1000.0, degree=2, kernel=polynomial;, score=-8.743 total time=   0.0s\n",
      "[CV 1/2; 34/72] START alpha=1000.0, degree=2, kernel=linear.....................\n",
      "[CV 1/2; 35/72] END alpha=1000.0, degree=3, kernel=polynomial;, score=0.529 total time=   0.0s\n",
      "[CV 2/2; 35/72] START alpha=1000.0, degree=3, kernel=polynomial.................\n",
      "[CV 1/2; 37/72] END alpha=1000.0, degree=4, kernel=polynomial;, score=-75.864 total time=   0.0s\n",
      "[CV 2/2; 37/72] START alpha=1000.0, degree=4, kernel=polynomial.................\n",
      "[CV 1/2; 34/72] END alpha=1000.0, degree=2, kernel=linear;, score=0.013 total time=   0.0s\n",
      "[CV 2/2; 34/72] START alpha=1000.0, degree=2, kernel=linear.....................\n",
      "[CV 2/2; 37/72] END alpha=1000.0, degree=4, kernel=polynomial;, score=-106183.416 total time=   0.0s\n",
      "[CV 1/2; 38/72] START alpha=1000.0, degree=4, kernel=linear.....................\n",
      "[CV 2/2; 34/72] END alpha=1000.0, degree=2, kernel=linear;, score=-3.273 total time=   0.0s\n",
      "[CV 2/2; 35/72] END alpha=1000.0, degree=3, kernel=polynomial;, score=-1892.874 total time=   0.0s\n",
      "[CV 1/2; 36/72] START alpha=1000.0, degree=3, kernel=linear.....................[CV 1/2; 38/72] END alpha=1000.0, degree=4, kernel=linear;, score=0.013 total time=   0.0s\n",
      "\n",
      "[CV 2/2; 38/72] START alpha=1000.0, degree=4, kernel=linear.....................\n",
      "[CV 1/2; 39/72] START alpha=1000.0, degree=5, kernel=polynomial.................\n",
      "[CV 2/2; 38/72] END alpha=1000.0, degree=4, kernel=linear;, score=-3.273 total time=   0.0s\n",
      "[CV 1/2; 36/72] END alpha=1000.0, degree=3, kernel=linear;, score=0.013 total time=   0.0s\n",
      "[CV 2/2; 36/72] START alpha=1000.0, degree=3, kernel=linear.....................\n",
      "[CV 2/2; 36/72] END alpha=1000.0, degree=3, kernel=linear;, score=-3.273 total time=   0.0s\n",
      "[CV 1/2; 39/72] END alpha=1000.0, degree=5, kernel=polynomial;, score=-4856.402 total time=   0.0s\n",
      "[CV 2/2; 39/72] START alpha=1000.0, degree=5, kernel=polynomial.................\n",
      "[CV 2/2; 39/72] END alpha=1000.0, degree=5, kernel=polynomial;, score=-4685440.030 total time=   0.0s\n",
      "[CV 1/2; 40/72] START alpha=1000.0, degree=5, kernel=linear.....................\n",
      "[CV 1/2; 40/72] END alpha=1000.0, degree=5, kernel=linear;, score=0.013 total time=   0.0s\n",
      "[CV 2/2; 40/72] START alpha=1000.0, degree=5, kernel=linear.....................\n",
      "[CV 2/2; 40/72] END alpha=1000.0, degree=5, kernel=linear;, score=-3.273 total time=   0.0s\n",
      "[CV 1/2; 41/72] START alpha=10000.0, degree=2, kernel=polynomial................\n",
      "[CV 1/2; 41/72] END alpha=10000.0, degree=2, kernel=polynomial;, score=0.763 total time=   0.0s\n",
      "[CV 2/2; 41/72] START alpha=10000.0, degree=2, kernel=polynomial................\n",
      "[CV 1/2; 43/72] START alpha=10000.0, degree=3, kernel=polynomial................\n",
      "[CV 2/2; 41/72] END alpha=10000.0, degree=2, kernel=polynomial;, score=-8.561 total time=   0.0s\n",
      "[CV 1/2; 42/72] START alpha=10000.0, degree=2, kernel=linear....................\n",
      "[CV 1/2; 42/72] END alpha=10000.0, degree=2, kernel=linear;, score=0.013 total time=   0.0s\n",
      "[CV 1/2; 43/72] END alpha=10000.0, degree=3, kernel=polynomial;, score=0.605 total time=   0.0s\n",
      "[CV 2/2; 42/72] START alpha=10000.0, degree=2, kernel=linear....................\n",
      "[CV 2/2; 43/72] START alpha=10000.0, degree=3, kernel=polynomial................\n",
      "[CV 2/2; 42/72] END alpha=10000.0, degree=2, kernel=linear;, score=-3.269 total time=   0.0s\n",
      "[CV 2/2; 43/72] END alpha=10000.0, degree=3, kernel=polynomial;, score=-1894.125 total time=   0.0s\n",
      "[CV 1/2; 44/72] START alpha=10000.0, degree=3, kernel=linear....................\n",
      "[CV 1/2; 45/72] START alpha=10000.0, degree=4, kernel=polynomial................\n",
      "[CV 1/2; 44/72] END alpha=10000.0, degree=3, kernel=linear;, score=0.013 total time=   0.0s\n",
      "[CV 2/2; 44/72] START alpha=10000.0, degree=3, kernel=linear....................\n",
      "[CV 1/2; 47/72] START alpha=10000.0, degree=5, kernel=polynomial................\n",
      "[CV 1/2; 45/72] END alpha=10000.0, degree=4, kernel=polynomial;, score=-75.864 total time=   0.0s[CV 2/2; 44/72] END alpha=10000.0, degree=3, kernel=linear;, score=-3.269 total time=   0.0s\n",
      "\n",
      "[CV 2/2; 45/72] START alpha=10000.0, degree=4, kernel=polynomial................\n",
      "[CV 1/2; 47/72] END alpha=10000.0, degree=5, kernel=polynomial;, score=-4856.402 total time=   0.0s\n",
      "[CV 2/2; 47/72] START alpha=10000.0, degree=5, kernel=polynomial................\n",
      "[CV 2/2; 45/72] END alpha=10000.0, degree=4, kernel=polynomial;, score=-106248.691 total time=   0.0s\n",
      "[CV 1/2; 46/72] START alpha=10000.0, degree=4, kernel=linear....................\n",
      "[CV 2/2; 47/72] END alpha=10000.0, degree=5, kernel=polynomial;, score=-4688268.606 total time=   0.0s\n",
      "[CV 1/2; 48/72] START alpha=10000.0, degree=5, kernel=linear....................\n",
      "[CV 1/2; 49/72] START alpha=100000.0, degree=2, kernel=polynomial...............\n",
      "[CV 1/2; 48/72] END alpha=10000.0, degree=5, kernel=linear;, score=0.013 total time=   0.0s\n",
      "[CV 2/2; 48/72] START alpha=10000.0, degree=5, kernel=linear....................\n",
      "[CV 2/2; 48/72] END alpha=10000.0, degree=5, kernel=linear;, score=-3.269 total time=   0.0s\n",
      "[CV 1/2; 49/72] END alpha=100000.0, degree=2, kernel=polynomial;, score=0.763 total time=   0.0s\n",
      "[CV 2/2; 49/72] START alpha=100000.0, degree=2, kernel=polynomial...............\n",
      "[CV 1/2; 46/72] END alpha=10000.0, degree=4, kernel=linear;, score=0.013 total time=   0.0s\n",
      "[CV 2/2; 46/72] START alpha=10000.0, degree=4, kernel=linear....................\n",
      "[CV 1/2; 51/72] START alpha=100000.0, degree=3, kernel=polynomial...............\n",
      "[CV 2/2; 46/72] END alpha=10000.0, degree=4, kernel=linear;, score=-3.269 total time=   0.0s\n",
      "[CV 2/2; 49/72] END alpha=100000.0, degree=2, kernel=polynomial;, score=-6.819 total time=   0.0s\n",
      "[CV 1/2; 50/72] START alpha=100000.0, degree=2, kernel=linear...................\n",
      "[CV 1/2; 53/72] START alpha=100000.0, degree=4, kernel=polynomial...............\n",
      "[CV 1/2; 51/72] END alpha=100000.0, degree=3, kernel=polynomial;, score=0.655 total time=   0.0s\n",
      "[CV 2/2; 51/72] START alpha=100000.0, degree=3, kernel=polynomial...............\n",
      "[CV 1/2; 50/72] END alpha=100000.0, degree=2, kernel=linear;, score=0.011 total time=   0.0s\n",
      "[CV 2/2; 50/72] START alpha=100000.0, degree=2, kernel=linear...................\n",
      "[CV 1/2; 53/72] END alpha=100000.0, degree=4, kernel=polynomial;, score=-75.864 total time=   0.0s\n",
      "[CV 2/2; 53/72] START alpha=100000.0, degree=4, kernel=polynomial...............\n",
      "[CV 2/2; 51/72] END alpha=100000.0, degree=3, kernel=polynomial;, score=-1894.250 total time=   0.0s\n",
      "[CV 2/2; 50/72] END alpha=100000.0, degree=2, kernel=linear;, score=-3.225 total time=   0.0s\n",
      "[CV 1/2; 52/72] START alpha=100000.0, degree=3, kernel=linear...................\n",
      "[CV 2/2; 53/72] END alpha=100000.0, degree=4, kernel=polynomial;, score=-106255.225 total time=   0.0s\n",
      "[CV 1/2; 54/72] START alpha=100000.0, degree=4, kernel=linear...................\n",
      "[CV 1/2; 52/72] END alpha=100000.0, degree=3, kernel=linear;, score=0.011 total time=   0.0s\n",
      "[CV 2/2; 52/72] START alpha=100000.0, degree=3, kernel=linear...................\n",
      "[CV 1/2; 54/72] END alpha=100000.0, degree=4, kernel=linear;, score=0.011 total time=   0.0s\n",
      "[CV 2/2; 54/72] START alpha=100000.0, degree=4, kernel=linear...................\n",
      "[CV 2/2; 52/72] END alpha=100000.0, degree=3, kernel=linear;, score=-3.225 total time=   0.0s\n",
      "[CV 2/2; 54/72] END alpha=100000.0, degree=4, kernel=linear;, score=-3.225 total time=   0.0s\n",
      "[CV 1/2; 55/72] START alpha=100000.0, degree=5, kernel=polynomial...............\n",
      "[CV 1/2; 55/72] END alpha=100000.0, degree=5, kernel=polynomial;, score=-4856.402 total time=   0.0s\n",
      "[CV 2/2; 55/72] START alpha=100000.0, degree=5, kernel=polynomial...............\n",
      "[CV 2/2; 55/72] END alpha=100000.0, degree=5, kernel=polynomial;, score=-4688551.794 total time=   0.0s\n",
      "[CV 1/2; 56/72] START alpha=100000.0, degree=5, kernel=linear...................\n",
      "[CV 1/2; 57/72] START alpha=1000000.0, degree=2, kernel=polynomial..............\n",
      "[CV 1/2; 56/72] END alpha=100000.0, degree=5, kernel=linear;, score=0.011 total time=   0.0s\n",
      "[CV 2/2; 56/72] START alpha=100000.0, degree=5, kernel=linear...................\n",
      "[CV 2/2; 57/72] START alpha=1000000.0, degree=2, kernel=polynomial..............\n",
      "[CV 1/2; 57/72] END alpha=1000000.0, degree=2, kernel=polynomial;, score=0.749 total time=   0.0s\n",
      "[CV 2/2; 56/72] END alpha=100000.0, degree=5, kernel=linear;, score=-3.225 total time=   0.0s\n",
      "[CV 1/2; 58/72] START alpha=1000000.0, degree=2, kernel=linear..................\n",
      "[CV 2/2; 57/72] END alpha=1000000.0, degree=2, kernel=polynomial;, score=0.385 total time=   0.0s\n",
      "[CV 1/2; 58/72] END alpha=1000000.0, degree=2, kernel=linear;, score=-0.006 total time=   0.0s\n",
      "[CV 2/2; 58/72] START alpha=1000000.0, degree=2, kernel=linear..................\n",
      "[CV 1/2; 59/72] START alpha=1000000.0, degree=3, kernel=polynomial..............\n",
      "[CV 2/2; 58/72] END alpha=1000000.0, degree=2, kernel=linear;, score=-2.821 total time=   0.0s\n",
      "[CV 1/2; 59/72] END alpha=1000000.0, degree=3, kernel=polynomial;, score=0.712 total time=   0.0s\n",
      "[CV 2/2; 59/72] START alpha=1000000.0, degree=3, kernel=polynomial..............\n",
      "[CV 2/2; 59/72] END alpha=1000000.0, degree=3, kernel=polynomial;, score=-1894.262 total time=   0.0s\n",
      "[CV 1/2; 60/72] START alpha=1000000.0, degree=3, kernel=linear..................\n",
      "[CV 2/2; 60/72] START alpha=1000000.0, degree=3, kernel=linear..................\n",
      "[CV 1/2; 60/72] END alpha=1000000.0, degree=3, kernel=linear;, score=-0.006 total time=   0.0s\n",
      "[CV 2/2; 60/72] END alpha=1000000.0, degree=3, kernel=linear;, score=-2.821 total time=   0.0s\n",
      "[CV 1/2; 61/72] START alpha=1000000.0, degree=4, kernel=polynomial..............\n",
      "[CV 2/2; 61/72] START alpha=1000000.0, degree=4, kernel=polynomial..............\n",
      "[CV 1/2; 61/72] END alpha=1000000.0, degree=4, kernel=polynomial;, score=-75.864 total time=   0.0s\n",
      "[CV 2/2; 61/72] END alpha=1000000.0, degree=4, kernel=polynomial;, score=-106255.879 total time=   0.0s\n",
      "[CV 1/2; 62/72] START alpha=1000000.0, degree=4, kernel=linear..................\n",
      "[CV 2/2; 62/72] START alpha=1000000.0, degree=4, kernel=linear..................\n",
      "[CV 1/2; 62/72] END alpha=1000000.0, degree=4, kernel=linear;, score=-0.006 total time=   0.0s\n",
      "[CV 2/2; 62/72] END alpha=1000000.0, degree=4, kernel=linear;, score=-2.821 total time=   0.0s\n",
      "[CV 1/2; 63/72] START alpha=1000000.0, degree=5, kernel=polynomial..............\n",
      "[CV 1/2; 63/72] END alpha=1000000.0, degree=5, kernel=polynomial;, score=-4856.402 total time=   0.0s\n",
      "[CV 2/2; 63/72] START alpha=1000000.0, degree=5, kernel=polynomial..............\n",
      "[CV 1/2; 64/72] START alpha=1000000.0, degree=5, kernel=linear..................\n",
      "[CV 2/2; 63/72] END alpha=1000000.0, degree=5, kernel=polynomial;, score=-4688580.105 total time=   0.0s\n",
      "[CV 1/2; 64/72] END alpha=1000000.0, degree=5, kernel=linear;, score=-0.006 total time=   0.0s\n",
      "[CV 2/2; 64/72] START alpha=1000000.0, degree=5, kernel=linear..................\n",
      "[CV 2/2; 64/72] END alpha=1000000.0, degree=5, kernel=linear;, score=-2.821 total time=   0.0s\n",
      "[CV 1/2; 65/72] START alpha=10000000.0, degree=2, kernel=polynomial.............\n",
      "[CV 2/2; 65/72] START alpha=10000000.0, degree=2, kernel=polynomial.............\n",
      "[CV 2/2; 65/72] END alpha=10000000.0, degree=2, kernel=polynomial;, score=-10.567 total time=   0.0s\n",
      "[CV 1/2; 65/72] END alpha=10000000.0, degree=2, kernel=polynomial;, score=0.248 total time=   0.0s\n",
      "[CV 1/2; 66/72] START alpha=10000000.0, degree=2, kernel=linear.................\n",
      "[CV 2/2; 66/72] START alpha=10000000.0, degree=2, kernel=linear.................\n",
      "[CV 2/2; 66/72] END alpha=10000000.0, degree=2, kernel=linear;, score=-0.758 total time=   0.0s\n",
      "[CV 1/2; 66/72] END alpha=10000000.0, degree=2, kernel=linear;, score=-0.168 total time=   0.0s\n",
      "[CV 1/2; 67/72] START alpha=10000000.0, degree=3, kernel=polynomial.............\n",
      "[CV 2/2; 67/72] START alpha=10000000.0, degree=3, kernel=polynomial.............\n",
      "[CV 2/2; 67/72] END alpha=10000000.0, degree=3, kernel=polynomial;, score=-1894.258 total time=   0.0s\n",
      "[CV 1/2; 67/72] END alpha=10000000.0, degree=3, kernel=polynomial;, score=-0.200 total time=   0.0s\n",
      "[CV 1/2; 68/72] START alpha=10000000.0, degree=3, kernel=linear.................\n",
      "[CV 2/2; 68/72] START alpha=10000000.0, degree=3, kernel=linear.................\n",
      "[CV 1/2; 68/72] END alpha=10000000.0, degree=3, kernel=linear;, score=-0.168 total time=   0.0s\n",
      "[CV 2/2; 68/72] END alpha=10000000.0, degree=3, kernel=linear;, score=-0.758 total time=   0.0s\n",
      "[CV 1/2; 69/72] START alpha=10000000.0, degree=4, kernel=polynomial.............\n",
      "[CV 2/2; 69/72] START alpha=10000000.0, degree=4, kernel=polynomial.............\n",
      "[CV 1/2; 69/72] END alpha=10000000.0, degree=4, kernel=polynomial;, score=-75.864 total time=   0.0s\n",
      "[CV 1/2; 70/72] START alpha=10000000.0, degree=4, kernel=linear.................\n",
      "[CV 2/2; 69/72] END alpha=10000000.0, degree=4, kernel=polynomial;, score=-106255.944 total time=   0.0s\n",
      "[CV 2/2; 70/72] START alpha=10000000.0, degree=4, kernel=linear.................\n",
      "[CV 1/2; 70/72] END alpha=10000000.0, degree=4, kernel=linear;, score=-0.168 total time=   0.0s\n",
      "[CV 1/2; 71/72] START alpha=10000000.0, degree=5, kernel=polynomial.............\n",
      "[CV 2/2; 70/72] END alpha=10000000.0, degree=4, kernel=linear;, score=-0.758 total time=   0.0s\n",
      "[CV 1/2; 71/72] END alpha=10000000.0, degree=5, kernel=polynomial;, score=-4856.402 total time=   0.0s\n",
      "[CV 2/2; 71/72] START alpha=10000000.0, degree=5, kernel=polynomial.............\n",
      "[CV 1/2; 72/72] START alpha=10000000.0, degree=5, kernel=linear.................\n",
      "[CV 1/2; 72/72] END alpha=10000000.0, degree=5, kernel=linear;, score=-0.168 total time=   0.0s\n",
      "[CV 2/2; 71/72] END alpha=10000000.0, degree=5, kernel=polynomial;, score=-4688582.947 total time=   0.0s\n",
      "[CV 2/2; 72/72] START alpha=10000000.0, degree=5, kernel=linear.................\n",
      "[CV 2/2; 72/72] END alpha=10000000.0, degree=5, kernel=linear;, score=-0.758 total time=   0.0s\n"
     ]
    },
    {
     "output_type": "stream",
     "name": "stderr",
     "text": [
      "/Users/sangersteel/miniforge3/envs/toxic/lib/python3.8/site-packages/sklearn/model_selection/_split.py:676: UserWarning: The least populated class in y has only 1 members, which is less than n_splits=2.\n",
      "  warnings.warn(\n",
      "/Users/sangersteel/miniforge3/envs/toxic/lib/python3.8/site-packages/sklearn/linear_model/_ridge.py:194: LinAlgWarning: Ill-conditioned matrix (rcond=4.8257e-17): result may not be accurate.\n",
      "  dual_coef = linalg.solve(K, y, sym_pos=True, overwrite_a=False)\n",
      "/Users/sangersteel/miniforge3/envs/toxic/lib/python3.8/site-packages/sklearn/linear_model/_ridge.py:194: LinAlgWarning: Ill-conditioned matrix (rcond=1.2991e-18): result may not be accurate.\n",
      "  dual_coef = linalg.solve(K, y, sym_pos=True, overwrite_a=False)\n",
      "/Users/sangersteel/miniforge3/envs/toxic/lib/python3.8/site-packages/sklearn/linear_model/_ridge.py:194: LinAlgWarning: Ill-conditioned matrix (rcond=4.08153e-23): result may not be accurate.\n",
      "  dual_coef = linalg.solve(K, y, sym_pos=True, overwrite_a=False)\n",
      "/Users/sangersteel/miniforge3/envs/toxic/lib/python3.8/site-packages/sklearn/linear_model/_ridge.py:194: LinAlgWarning: Ill-conditioned matrix (rcond=2.30171e-20): result may not be accurate.\n",
      "  dual_coef = linalg.solve(K, y, sym_pos=True, overwrite_a=False)\n",
      "/Users/sangersteel/miniforge3/envs/toxic/lib/python3.8/site-packages/sklearn/linear_model/_ridge.py:194: LinAlgWarning: Ill-conditioned matrix (rcond=1.3895e-30): result may not be accurate.\n",
      "  dual_coef = linalg.solve(K, y, sym_pos=True, overwrite_a=False)\n",
      "/Users/sangersteel/miniforge3/envs/toxic/lib/python3.8/site-packages/sklearn/linear_model/_ridge.py:194: LinAlgWarning: Ill-conditioned matrix (rcond=3.17262e-22): result may not be accurate.\n",
      "  dual_coef = linalg.solve(K, y, sym_pos=True, overwrite_a=False)\n",
      "/Users/sangersteel/miniforge3/envs/toxic/lib/python3.8/site-packages/sklearn/linear_model/_ridge.py:194: LinAlgWarning: Ill-conditioned matrix (rcond=4.68216e-38): result may not be accurate.\n",
      "  dual_coef = linalg.solve(K, y, sym_pos=True, overwrite_a=False)\n",
      "/Users/sangersteel/miniforge3/envs/toxic/lib/python3.8/site-packages/sklearn/linear_model/_ridge.py:194: LinAlgWarning: Ill-conditioned matrix (rcond=1.2991e-18): result may not be accurate.\n",
      "  dual_coef = linalg.solve(K, y, sym_pos=True, overwrite_a=False)\n",
      "/Users/sangersteel/miniforge3/envs/toxic/lib/python3.8/site-packages/sklearn/linear_model/_ridge.py:194: LinAlgWarning: Ill-conditioned matrix (rcond=7.42096e-23): result may not be accurate.\n",
      "  dual_coef = linalg.solve(K, y, sym_pos=True, overwrite_a=False)\n",
      "/Users/sangersteel/miniforge3/envs/toxic/lib/python3.8/site-packages/sklearn/linear_model/_ridge.py:194: LinAlgWarning: Ill-conditioned matrix (rcond=2.30171e-20): result may not be accurate.\n",
      "  dual_coef = linalg.solve(K, y, sym_pos=True, overwrite_a=False)\n",
      "/Users/sangersteel/miniforge3/envs/toxic/lib/python3.8/site-packages/sklearn/linear_model/_ridge.py:194: LinAlgWarning: Ill-conditioned matrix (rcond=2.52636e-30): result may not be accurate.\n",
      "  dual_coef = linalg.solve(K, y, sym_pos=True, overwrite_a=False)\n",
      "/Users/sangersteel/miniforge3/envs/toxic/lib/python3.8/site-packages/sklearn/linear_model/_ridge.py:194: LinAlgWarning: Ill-conditioned matrix (rcond=3.17262e-22): result may not be accurate.\n",
      "  dual_coef = linalg.solve(K, y, sym_pos=True, overwrite_a=False)\n",
      "/Users/sangersteel/miniforge3/envs/toxic/lib/python3.8/site-packages/sklearn/linear_model/_ridge.py:194: LinAlgWarning: Ill-conditioned matrix (rcond=8.51302e-38): result may not be accurate.\n",
      "  dual_coef = linalg.solve(K, y, sym_pos=True, overwrite_a=False)\n",
      "/Users/sangersteel/miniforge3/envs/toxic/lib/python3.8/site-packages/sklearn/linear_model/_ridge.py:194: LinAlgWarning: Ill-conditioned matrix (rcond=1.2991e-18): result may not be accurate.\n",
      "  dual_coef = linalg.solve(K, y, sym_pos=True, overwrite_a=False)\n",
      "/Users/sangersteel/miniforge3/envs/toxic/lib/python3.8/site-packages/sklearn/linear_model/_ridge.py:194: LinAlgWarning: Ill-conditioned matrix (rcond=4.08153e-22): result may not be accurate.\n",
      "  dual_coef = linalg.solve(K, y, sym_pos=True, overwrite_a=False)\n",
      "/Users/sangersteel/miniforge3/envs/toxic/lib/python3.8/site-packages/sklearn/linear_model/_ridge.py:194: LinAlgWarning: Ill-conditioned matrix (rcond=2.30171e-20): result may not be accurate.\n",
      "  dual_coef = linalg.solve(K, y, sym_pos=True, overwrite_a=False)\n",
      "/Users/sangersteel/miniforge3/envs/toxic/lib/python3.8/site-packages/sklearn/linear_model/_ridge.py:194: LinAlgWarning: Ill-conditioned matrix (rcond=1.3895e-29): result may not be accurate.\n",
      "  dual_coef = linalg.solve(K, y, sym_pos=True, overwrite_a=False)\n",
      "/Users/sangersteel/miniforge3/envs/toxic/lib/python3.8/site-packages/sklearn/linear_model/_ridge.py:194: LinAlgWarning: Ill-conditioned matrix (rcond=3.17262e-22): result may not be accurate.\n",
      "  dual_coef = linalg.solve(K, y, sym_pos=True, overwrite_a=False)\n",
      "/Users/sangersteel/miniforge3/envs/toxic/lib/python3.8/site-packages/sklearn/linear_model/_ridge.py:194: LinAlgWarning: Ill-conditioned matrix (rcond=4.68216e-37): result may not be accurate.\n",
      "  dual_coef = linalg.solve(K, y, sym_pos=True, overwrite_a=False)\n",
      "/Users/sangersteel/miniforge3/envs/toxic/lib/python3.8/site-packages/sklearn/linear_model/_ridge.py:194: LinAlgWarning: Ill-conditioned matrix (rcond=1.2991e-18): result may not be accurate.\n",
      "  dual_coef = linalg.solve(K, y, sym_pos=True, overwrite_a=False)\n",
      "/Users/sangersteel/miniforge3/envs/toxic/lib/python3.8/site-packages/sklearn/linear_model/_ridge.py:194: LinAlgWarning: Ill-conditioned matrix (rcond=3.74758e-21): result may not be accurate.\n",
      "  dual_coef = linalg.solve(K, y, sym_pos=True, overwrite_a=False)\n",
      "/Users/sangersteel/miniforge3/envs/toxic/lib/python3.8/site-packages/sklearn/linear_model/_ridge.py:194: LinAlgWarning: Ill-conditioned matrix (rcond=3.17262e-22): result may not be accurate.\n",
      "  dual_coef = linalg.solve(K, y, sym_pos=True, overwrite_a=False)\n",
      "/Users/sangersteel/miniforge3/envs/toxic/lib/python3.8/site-packages/sklearn/linear_model/_ridge.py:194: LinAlgWarning: Ill-conditioned matrix (rcond=4.29908e-36): result may not be accurate.\n",
      "  dual_coef = linalg.solve(K, y, sym_pos=True, overwrite_a=False)\n",
      "/Users/sangersteel/miniforge3/envs/toxic/lib/python3.8/site-packages/sklearn/linear_model/_ridge.py:194: LinAlgWarning: Ill-conditioned matrix (rcond=2.30171e-20): result may not be accurate.\n",
      "  dual_coef = linalg.solve(K, y, sym_pos=True, overwrite_a=False)\n",
      "/Users/sangersteel/miniforge3/envs/toxic/lib/python3.8/site-packages/sklearn/linear_model/_ridge.py:194: LinAlgWarning: Ill-conditioned matrix (rcond=1.27581e-28): result may not be accurate.\n",
      "  dual_coef = linalg.solve(K, y, sym_pos=True, overwrite_a=False)\n",
      "/Users/sangersteel/miniforge3/envs/toxic/lib/python3.8/site-packages/sklearn/linear_model/_ridge.py:194: LinAlgWarning: Ill-conditioned matrix (rcond=2.30171e-20): result may not be accurate.\n",
      "  dual_coef = linalg.solve(K, y, sym_pos=True, overwrite_a=False)\n",
      "/Users/sangersteel/miniforge3/envs/toxic/lib/python3.8/site-packages/sklearn/linear_model/_ridge.py:194: LinAlgWarning: Ill-conditioned matrix (rcond=1.30117e-18): result may not be accurate.\n",
      "  dual_coef = linalg.solve(K, y, sym_pos=True, overwrite_a=False)\n",
      "/Users/sangersteel/miniforge3/envs/toxic/lib/python3.8/site-packages/sklearn/linear_model/_ridge.py:194: LinAlgWarning: Ill-conditioned matrix (rcond=3.71419e-20): result may not be accurate.\n",
      "  dual_coef = linalg.solve(K, y, sym_pos=True, overwrite_a=False)\n",
      "/Users/sangersteel/miniforge3/envs/toxic/lib/python3.8/site-packages/sklearn/linear_model/_ridge.py:194: LinAlgWarning: Ill-conditioned matrix (rcond=1.26444e-27): result may not be accurate.\n",
      "  dual_coef = linalg.solve(K, y, sym_pos=True, overwrite_a=False)\n",
      "/Users/sangersteel/miniforge3/envs/toxic/lib/python3.8/site-packages/sklearn/linear_model/_ridge.py:194: LinAlgWarning: Ill-conditioned matrix (rcond=3.17262e-22): result may not be accurate.\n",
      "  dual_coef = linalg.solve(K, y, sym_pos=True, overwrite_a=False)\n",
      "/Users/sangersteel/miniforge3/envs/toxic/lib/python3.8/site-packages/sklearn/linear_model/_ridge.py:194: LinAlgWarning: Ill-conditioned matrix (rcond=4.26077e-35): result may not be accurate.\n",
      "  dual_coef = linalg.solve(K, y, sym_pos=True, overwrite_a=False)\n",
      "/Users/sangersteel/miniforge3/envs/toxic/lib/python3.8/site-packages/sklearn/linear_model/_ridge.py:194: LinAlgWarning: Ill-conditioned matrix (rcond=1.31354e-18): result may not be accurate.\n",
      "  dual_coef = linalg.solve(K, y, sym_pos=True, overwrite_a=False)\n",
      "/Users/sangersteel/miniforge3/envs/toxic/lib/python3.8/site-packages/sklearn/linear_model/_ridge.py:194: LinAlgWarning: Ill-conditioned matrix (rcond=3.71085e-19): result may not be accurate.\n",
      "  dual_coef = linalg.solve(K, y, sym_pos=True, overwrite_a=False)\n",
      "/Users/sangersteel/miniforge3/envs/toxic/lib/python3.8/site-packages/sklearn/linear_model/_ridge.py:194: LinAlgWarning: Ill-conditioned matrix (rcond=2.30171e-20): result may not be accurate.\n",
      "  dual_coef = linalg.solve(K, y, sym_pos=True, overwrite_a=False)\n",
      "/Users/sangersteel/miniforge3/envs/toxic/lib/python3.8/site-packages/sklearn/linear_model/_ridge.py:194: LinAlgWarning: Ill-conditioned matrix (rcond=3.17262e-22): result may not be accurate.\n",
      "  dual_coef = linalg.solve(K, y, sym_pos=True, overwrite_a=False)\n",
      "/Users/sangersteel/miniforge3/envs/toxic/lib/python3.8/site-packages/sklearn/linear_model/_ridge.py:194: LinAlgWarning: Ill-conditioned matrix (rcond=1.26331e-26): result may not be accurate.\n",
      "  dual_coef = linalg.solve(K, y, sym_pos=True, overwrite_a=False)\n",
      "/Users/sangersteel/miniforge3/envs/toxic/lib/python3.8/site-packages/sklearn/linear_model/_ridge.py:194: LinAlgWarning: Ill-conditioned matrix (rcond=4.25694e-34): result may not be accurate.\n",
      "  dual_coef = linalg.solve(K, y, sym_pos=True, overwrite_a=False)\n",
      "/Users/sangersteel/miniforge3/envs/toxic/lib/python3.8/site-packages/sklearn/linear_model/_ridge.py:194: LinAlgWarning: Ill-conditioned matrix (rcond=1.43314e-18): result may not be accurate.\n",
      "  dual_coef = linalg.solve(K, y, sym_pos=True, overwrite_a=False)\n",
      "/Users/sangersteel/miniforge3/envs/toxic/lib/python3.8/site-packages/sklearn/linear_model/_ridge.py:194: LinAlgWarning: Ill-conditioned matrix (rcond=2.30171e-20): result may not be accurate.\n",
      "  dual_coef = linalg.solve(K, y, sym_pos=True, overwrite_a=False)\n",
      "/Users/sangersteel/miniforge3/envs/toxic/lib/python3.8/site-packages/sklearn/linear_model/_ridge.py:194: LinAlgWarning: Ill-conditioned matrix (rcond=3.71051e-18): result may not be accurate.\n",
      "  dual_coef = linalg.solve(K, y, sym_pos=True, overwrite_a=False)\n",
      "/Users/sangersteel/miniforge3/envs/toxic/lib/python3.8/site-packages/sklearn/linear_model/_ridge.py:194: LinAlgWarning: Ill-conditioned matrix (rcond=1.26319e-25): result may not be accurate.\n",
      "  dual_coef = linalg.solve(K, y, sym_pos=True, overwrite_a=False)\n",
      "/Users/sangersteel/miniforge3/envs/toxic/lib/python3.8/site-packages/sklearn/linear_model/_ridge.py:194: LinAlgWarning: Ill-conditioned matrix (rcond=3.17262e-22): result may not be accurate.\n",
      "  dual_coef = linalg.solve(K, y, sym_pos=True, overwrite_a=False)\n",
      "/Users/sangersteel/miniforge3/envs/toxic/lib/python3.8/site-packages/sklearn/linear_model/_ridge.py:194: LinAlgWarning: Ill-conditioned matrix (rcond=4.25655e-33): result may not be accurate.\n",
      "  dual_coef = linalg.solve(K, y, sym_pos=True, overwrite_a=False)\n",
      "/Users/sangersteel/miniforge3/envs/toxic/lib/python3.8/site-packages/sklearn/linear_model/_ridge.py:194: LinAlgWarning: Ill-conditioned matrix (rcond=2.63327e-18): result may not be accurate.\n",
      "  dual_coef = linalg.solve(K, y, sym_pos=True, overwrite_a=False)\n",
      "/Users/sangersteel/miniforge3/envs/toxic/lib/python3.8/site-packages/sklearn/linear_model/_ridge.py:194: LinAlgWarning: Ill-conditioned matrix (rcond=3.71048e-17): result may not be accurate.\n",
      "  dual_coef = linalg.solve(K, y, sym_pos=True, overwrite_a=False)\n",
      "/Users/sangersteel/miniforge3/envs/toxic/lib/python3.8/site-packages/sklearn/linear_model/_ridge.py:194: LinAlgWarning: Ill-conditioned matrix (rcond=2.30171e-20): result may not be accurate.\n",
      "  dual_coef = linalg.solve(K, y, sym_pos=True, overwrite_a=False)\n",
      "/Users/sangersteel/miniforge3/envs/toxic/lib/python3.8/site-packages/sklearn/linear_model/_ridge.py:194: LinAlgWarning: Ill-conditioned matrix (rcond=1.26318e-24): result may not be accurate.\n",
      "  dual_coef = linalg.solve(K, y, sym_pos=True, overwrite_a=False)\n",
      "/Users/sangersteel/miniforge3/envs/toxic/lib/python3.8/site-packages/sklearn/linear_model/_ridge.py:194: LinAlgWarning: Ill-conditioned matrix (rcond=3.17262e-22): result may not be accurate.\n",
      "  dual_coef = linalg.solve(K, y, sym_pos=True, overwrite_a=False)\n",
      "/Users/sangersteel/miniforge3/envs/toxic/lib/python3.8/site-packages/sklearn/linear_model/_ridge.py:194: LinAlgWarning: Ill-conditioned matrix (rcond=4.25652e-32): result may not be accurate.\n",
      "  dual_coef = linalg.solve(K, y, sym_pos=True, overwrite_a=False)\n",
      "/Users/sangersteel/miniforge3/envs/toxic/lib/python3.8/site-packages/sklearn/linear_model/_ridge.py:194: LinAlgWarning: Ill-conditioned matrix (rcond=1.4645e-17): result may not be accurate.\n",
      "  dual_coef = linalg.solve(K, y, sym_pos=True, overwrite_a=False)\n",
      "/Users/sangersteel/miniforge3/envs/toxic/lib/python3.8/site-packages/sklearn/linear_model/_ridge.py:194: LinAlgWarning: Ill-conditioned matrix (rcond=2.30171e-20): result may not be accurate.\n",
      "  dual_coef = linalg.solve(K, y, sym_pos=True, overwrite_a=False)\n",
      "/Users/sangersteel/miniforge3/envs/toxic/lib/python3.8/site-packages/sklearn/linear_model/_ridge.py:194: LinAlgWarning: Ill-conditioned matrix (rcond=1.26318e-23): result may not be accurate.\n",
      "  dual_coef = linalg.solve(K, y, sym_pos=True, overwrite_a=False)\n",
      "/Users/sangersteel/miniforge3/envs/toxic/lib/python3.8/site-packages/sklearn/linear_model/_ridge.py:194: LinAlgWarning: Ill-conditioned matrix (rcond=3.17262e-22): result may not be accurate.\n",
      "  dual_coef = linalg.solve(K, y, sym_pos=True, overwrite_a=False)\n",
      "/Users/sangersteel/miniforge3/envs/toxic/lib/python3.8/site-packages/sklearn/linear_model/_ridge.py:194: LinAlgWarning: Ill-conditioned matrix (rcond=4.25651e-31): result may not be accurate.\n",
      "  dual_coef = linalg.solve(K, y, sym_pos=True, overwrite_a=False)\n"
     ]
    },
    {
     "output_type": "execute_result",
     "data": {
      "text/plain": [
       "GridSearchCV(cv=StratifiedKFold(n_splits=2, random_state=None, shuffle=False),\n",
       "             estimator=KernelRidge(), n_jobs=-1,\n",
       "             param_grid={'alpha': [0.1, 1, 10, 100.0, 1000.0, 10000.0, 100000.0,\n",
       "                                   1000000.0, 10000000.0],\n",
       "                         'degree': [2, 3, 4, 5],\n",
       "                         'kernel': ['polynomial', 'linear']},\n",
       "             verbose=10)"
      ]
     },
     "metadata": {},
     "execution_count": 269
    }
   ],
   "metadata": {}
  },
  {
   "cell_type": "code",
   "execution_count": 270,
   "source": [
    "best = gsearch.best_estimator_"
   ],
   "outputs": [],
   "metadata": {}
  },
  {
   "cell_type": "code",
   "execution_count": 271,
   "source": [
    "best"
   ],
   "outputs": [
    {
     "output_type": "execute_result",
     "data": {
      "text/plain": [
       "KernelRidge(alpha=1000000.0, degree=2, kernel='polynomial')"
      ]
     },
     "metadata": {},
     "execution_count": 271
    }
   ],
   "metadata": {}
  },
  {
   "cell_type": "code",
   "execution_count": 272,
   "source": [
    "best.fit(x,y)"
   ],
   "outputs": [
    {
     "output_type": "execute_result",
     "data": {
      "text/plain": [
       "KernelRidge(alpha=1000000.0, degree=2, kernel='polynomial')"
      ]
     },
     "metadata": {},
     "execution_count": 272
    }
   ],
   "metadata": {}
  },
  {
   "cell_type": "code",
   "execution_count": 273,
   "source": [
    "y_kr = best.predict(xs)"
   ],
   "outputs": [],
   "metadata": {}
  },
  {
   "cell_type": "code",
   "execution_count": 274,
   "source": [
    "rcv = RidgeCV(alphas=[1e-2, 1e-1, 1, 10, 100, 1000]).fit(x,y)"
   ],
   "outputs": [],
   "metadata": {}
  },
  {
   "cell_type": "code",
   "execution_count": 275,
   "source": [
    "y_rcv = rcv.predict(xs)"
   ],
   "outputs": [],
   "metadata": {}
  },
  {
   "cell_type": "code",
   "execution_count": 276,
   "source": [
    "pos_for_y_rcv = np.where([np.abs(val-6) < 0.005 for val in y_rcv])[0][0]\n",
    "agot + datetime.timedelta(days = xs[pos_for_y_rcv][0])"
   ],
   "outputs": [
    {
     "output_type": "execute_result",
     "data": {
      "text/plain": [
       "datetime.datetime(2023, 8, 4, 20, 45, 24, 324324)"
      ]
     },
     "metadata": {},
     "execution_count": 276
    }
   ],
   "metadata": {}
  },
  {
   "cell_type": "code",
   "execution_count": 278,
   "source": [
    "fig, ax = plt.subplots(figsize = (12,8))\n",
    "ax.plot(xs, cs(xs), color = 'green', alpha = 0.1)\n",
    "ax.plot(xs, y_rcv, color = 'purple')\n",
    "ax.plot(xs, y_kr, color = 'orange',alpha = 0.1)\n",
    "plt.scatter(x, y)\n",
    "plt.xlabel('Days since A Game of Thrones published')\n",
    "plt.ylabel('Number of books in the A Song of Ice and Fire series')\n",
    "plt.scatter(xs[pos_for_y_rcv], y_rcv[pos_for_y_rcv], marker = 's')\n",
    "plt.scatter(x[-1],y[-1], marker = 's')\n",
    "ax.annotate('Current day (2/20/2022)', xy = (x[-1],5), xytext = (8500, 4.8))\n",
    "ax.annotate('TWoW -> 8/4/2023', xy = (xs[pos_for_y_rcv], 6), xytext = (xs[pos_for_y_rcv] - 2500,6))\n",
    "ax.legend(['Cubic splines','Linear ridge', 'Kernel ridge'])\n",
    "plt.ylim([0.8,7])\n",
    "plt.savefig('results.jpg', bbox_inches = 'tight',  pad_inches = 0)"
   ],
   "outputs": [
    {
     "output_type": "display_data",
     "data": {
      "text/plain": [
       "<Figure size 864x576 with 1 Axes>"
      ],
      "image/png": "[encoded data removed]"
     },
     "metadata": {
      "needs_background": "light"
     }
    }
   ],
   "metadata": {}
  },
  {
   "cell_type": "code",
   "execution_count": null,
   "source": [],
   "outputs": [],
   "metadata": {}
  }
 ],
 "metadata": {
  "orig_nbformat": 4,
  "language_info": {
   "name": "python",
   "version": "3.8.5",
   "mimetype": "text/x-python",
   "codemirror_mode": {
    "name": "ipython",
    "version": 3
   },
   "pygments_lexer": "ipython3",
   "nbconvert_exporter": "python",
   "file_extension": ".py"
  },
  "kernelspec": {
   "name": "python3",
   "display_name": "Python 3.8.5 64-bit ('toxic': conda)"
  },
  "interpreter": {
   "hash": "c0ac4971e360b0f2dea732e840eb0c9c41456636b7685f248e181635d8e4811b"
  }
 },
 "nbformat": 4,
 "nbformat_minor": 2
}